{
 "cells": [
  {
   "cell_type": "code",
   "execution_count": 5,
   "metadata": {},
   "outputs": [],
   "source": [
    "import math\n",
    "import pandas as pd\n",
    "import numpy as np\n",
    "import matplotlib.pyplot as plt\n",
    "from sklearn.metrics import r2_score\n",
    "from sklearn.metrics import mean_squared_error\n",
    "from sklearn.model_selection import train_test_split\n",
    "from sklearn.metrics import log_loss\n",
    "from sklearn.tree import DecisionTreeClassifier\n",
    "from sklearn.neural_network import MLPClassifier\n",
    "from sklearn.ensemble import RandomForestClassifier\n",
    "from sklearn.ensemble import AdaBoostClassifier"
   ]
  },
  {
   "cell_type": "markdown",
   "metadata": {},
   "source": [
    "Exercise 1"
   ]
  },
  {
   "cell_type": "code",
   "execution_count": 8,
   "metadata": {},
   "outputs": [],
   "source": [
    "data_frame = pd.read_csv(\"Data_for_UCI_named.csv\")\n",
    "column_index = [4,12]\n",
    "final_dataframe = data_frame.drop(data_frame.columns[column_index],axis=1)\n",
    "final_dataframe['stabf']=final_dataframe['stabf'].replace('stable',1)\n",
    "final_dataframe['stabf']=final_dataframe['stabf'].replace('unstable',0)\n",
    "full_train, test=train_test_split(final_dataframe, test_size =0.2)\n",
    "train, valid = train_test_split(full_train, test_size=0.25)"
   ]
  },
  {
   "cell_type": "code",
   "execution_count": 41,
   "metadata": {},
   "outputs": [
    {
     "data": {
      "text/html": [
       "<div>\n",
       "<style scoped>\n",
       "    .dataframe tbody tr th:only-of-type {\n",
       "        vertical-align: middle;\n",
       "    }\n",
       "\n",
       "    .dataframe tbody tr th {\n",
       "        vertical-align: top;\n",
       "    }\n",
       "\n",
       "    .dataframe thead th {\n",
       "        text-align: right;\n",
       "    }\n",
       "</style>\n",
       "<table border=\"1\" class=\"dataframe\">\n",
       "  <thead>\n",
       "    <tr style=\"text-align: right;\">\n",
       "      <th></th>\n",
       "      <th>tau1</th>\n",
       "      <th>tau2</th>\n",
       "      <th>tau3</th>\n",
       "      <th>tau4</th>\n",
       "      <th>p2</th>\n",
       "      <th>p3</th>\n",
       "      <th>p4</th>\n",
       "      <th>g1</th>\n",
       "      <th>g2</th>\n",
       "      <th>g3</th>\n",
       "      <th>g4</th>\n",
       "      <th>stabf</th>\n",
       "    </tr>\n",
       "  </thead>\n",
       "  <tbody>\n",
       "    <tr>\n",
       "      <th>8357</th>\n",
       "      <td>6.831522</td>\n",
       "      <td>9.605821</td>\n",
       "      <td>7.707207</td>\n",
       "      <td>6.426386</td>\n",
       "      <td>-1.647183</td>\n",
       "      <td>-1.447027</td>\n",
       "      <td>-1.742941</td>\n",
       "      <td>0.511570</td>\n",
       "      <td>0.912095</td>\n",
       "      <td>0.748709</td>\n",
       "      <td>0.906299</td>\n",
       "      <td>0</td>\n",
       "    </tr>\n",
       "    <tr>\n",
       "      <th>5592</th>\n",
       "      <td>3.484051</td>\n",
       "      <td>3.261583</td>\n",
       "      <td>3.061933</td>\n",
       "      <td>2.984940</td>\n",
       "      <td>-1.018964</td>\n",
       "      <td>-1.372214</td>\n",
       "      <td>-1.889375</td>\n",
       "      <td>0.487419</td>\n",
       "      <td>0.902059</td>\n",
       "      <td>0.599310</td>\n",
       "      <td>0.802854</td>\n",
       "      <td>0</td>\n",
       "    </tr>\n",
       "    <tr>\n",
       "      <th>3665</th>\n",
       "      <td>2.972286</td>\n",
       "      <td>2.579233</td>\n",
       "      <td>0.926517</td>\n",
       "      <td>8.833689</td>\n",
       "      <td>-1.604793</td>\n",
       "      <td>-1.198811</td>\n",
       "      <td>-0.549650</td>\n",
       "      <td>0.996005</td>\n",
       "      <td>0.959735</td>\n",
       "      <td>0.211077</td>\n",
       "      <td>0.983521</td>\n",
       "      <td>0</td>\n",
       "    </tr>\n",
       "    <tr>\n",
       "      <th>4130</th>\n",
       "      <td>9.554098</td>\n",
       "      <td>6.625059</td>\n",
       "      <td>9.896289</td>\n",
       "      <td>4.121128</td>\n",
       "      <td>-0.757897</td>\n",
       "      <td>-1.813831</td>\n",
       "      <td>-1.458751</td>\n",
       "      <td>0.512356</td>\n",
       "      <td>0.942064</td>\n",
       "      <td>0.767771</td>\n",
       "      <td>0.617934</td>\n",
       "      <td>0</td>\n",
       "    </tr>\n",
       "    <tr>\n",
       "      <th>1360</th>\n",
       "      <td>9.557971</td>\n",
       "      <td>8.487566</td>\n",
       "      <td>2.432568</td>\n",
       "      <td>5.088019</td>\n",
       "      <td>-0.811854</td>\n",
       "      <td>-1.302207</td>\n",
       "      <td>-0.647525</td>\n",
       "      <td>0.944900</td>\n",
       "      <td>0.905103</td>\n",
       "      <td>0.215608</td>\n",
       "      <td>0.389183</td>\n",
       "      <td>0</td>\n",
       "    </tr>\n",
       "  </tbody>\n",
       "</table>\n",
       "</div>"
      ],
      "text/plain": [
       "          tau1      tau2      tau3      tau4        p2        p3        p4  \\\n",
       "8357  6.831522  9.605821  7.707207  6.426386 -1.647183 -1.447027 -1.742941   \n",
       "5592  3.484051  3.261583  3.061933  2.984940 -1.018964 -1.372214 -1.889375   \n",
       "3665  2.972286  2.579233  0.926517  8.833689 -1.604793 -1.198811 -0.549650   \n",
       "4130  9.554098  6.625059  9.896289  4.121128 -0.757897 -1.813831 -1.458751   \n",
       "1360  9.557971  8.487566  2.432568  5.088019 -0.811854 -1.302207 -0.647525   \n",
       "\n",
       "            g1        g2        g3        g4  stabf  \n",
       "8357  0.511570  0.912095  0.748709  0.906299      0  \n",
       "5592  0.487419  0.902059  0.599310  0.802854      0  \n",
       "3665  0.996005  0.959735  0.211077  0.983521      0  \n",
       "4130  0.512356  0.942064  0.767771  0.617934      0  \n",
       "1360  0.944900  0.905103  0.215608  0.389183      0  "
      ]
     },
     "execution_count": 41,
     "metadata": {},
     "output_type": "execute_result"
    }
   ],
   "source": [
    "full_train.head()"
   ]
  },
  {
   "cell_type": "code",
   "execution_count": 42,
   "metadata": {},
   "outputs": [
    {
     "data": {
      "text/html": [
       "<div>\n",
       "<style scoped>\n",
       "    .dataframe tbody tr th:only-of-type {\n",
       "        vertical-align: middle;\n",
       "    }\n",
       "\n",
       "    .dataframe tbody tr th {\n",
       "        vertical-align: top;\n",
       "    }\n",
       "\n",
       "    .dataframe thead th {\n",
       "        text-align: right;\n",
       "    }\n",
       "</style>\n",
       "<table border=\"1\" class=\"dataframe\">\n",
       "  <thead>\n",
       "    <tr style=\"text-align: right;\">\n",
       "      <th></th>\n",
       "      <th>tau1</th>\n",
       "      <th>tau2</th>\n",
       "      <th>tau3</th>\n",
       "      <th>tau4</th>\n",
       "      <th>p2</th>\n",
       "      <th>p3</th>\n",
       "      <th>p4</th>\n",
       "      <th>g1</th>\n",
       "      <th>g2</th>\n",
       "      <th>g3</th>\n",
       "      <th>g4</th>\n",
       "      <th>stabf</th>\n",
       "    </tr>\n",
       "  </thead>\n",
       "  <tbody>\n",
       "    <tr>\n",
       "      <th>3754</th>\n",
       "      <td>2.468742</td>\n",
       "      <td>7.671176</td>\n",
       "      <td>2.418067</td>\n",
       "      <td>3.299449</td>\n",
       "      <td>-1.610861</td>\n",
       "      <td>-1.502488</td>\n",
       "      <td>-1.299532</td>\n",
       "      <td>0.733945</td>\n",
       "      <td>0.168359</td>\n",
       "      <td>0.914492</td>\n",
       "      <td>0.671303</td>\n",
       "      <td>0</td>\n",
       "    </tr>\n",
       "    <tr>\n",
       "      <th>7667</th>\n",
       "      <td>2.610082</td>\n",
       "      <td>7.198513</td>\n",
       "      <td>2.609164</td>\n",
       "      <td>1.564472</td>\n",
       "      <td>-1.639458</td>\n",
       "      <td>-1.912802</td>\n",
       "      <td>-0.577513</td>\n",
       "      <td>0.888177</td>\n",
       "      <td>0.283483</td>\n",
       "      <td>0.195373</td>\n",
       "      <td>0.959492</td>\n",
       "      <td>1</td>\n",
       "    </tr>\n",
       "    <tr>\n",
       "      <th>3122</th>\n",
       "      <td>4.506769</td>\n",
       "      <td>7.175377</td>\n",
       "      <td>3.168881</td>\n",
       "      <td>1.619786</td>\n",
       "      <td>-1.427366</td>\n",
       "      <td>-0.725996</td>\n",
       "      <td>-1.427176</td>\n",
       "      <td>0.392040</td>\n",
       "      <td>0.229182</td>\n",
       "      <td>0.873777</td>\n",
       "      <td>0.964562</td>\n",
       "      <td>1</td>\n",
       "    </tr>\n",
       "    <tr>\n",
       "      <th>1456</th>\n",
       "      <td>2.423343</td>\n",
       "      <td>5.279390</td>\n",
       "      <td>4.876993</td>\n",
       "      <td>2.621016</td>\n",
       "      <td>-0.787757</td>\n",
       "      <td>-0.921840</td>\n",
       "      <td>-1.991847</td>\n",
       "      <td>0.702972</td>\n",
       "      <td>0.850101</td>\n",
       "      <td>0.664613</td>\n",
       "      <td>0.273731</td>\n",
       "      <td>0</td>\n",
       "    </tr>\n",
       "    <tr>\n",
       "      <th>2886</th>\n",
       "      <td>1.605235</td>\n",
       "      <td>1.270205</td>\n",
       "      <td>9.453592</td>\n",
       "      <td>2.621835</td>\n",
       "      <td>-0.815962</td>\n",
       "      <td>-0.689892</td>\n",
       "      <td>-1.044414</td>\n",
       "      <td>0.887779</td>\n",
       "      <td>0.496484</td>\n",
       "      <td>0.277912</td>\n",
       "      <td>0.326237</td>\n",
       "      <td>1</td>\n",
       "    </tr>\n",
       "  </tbody>\n",
       "</table>\n",
       "</div>"
      ],
      "text/plain": [
       "          tau1      tau2      tau3      tau4        p2        p3        p4  \\\n",
       "3754  2.468742  7.671176  2.418067  3.299449 -1.610861 -1.502488 -1.299532   \n",
       "7667  2.610082  7.198513  2.609164  1.564472 -1.639458 -1.912802 -0.577513   \n",
       "3122  4.506769  7.175377  3.168881  1.619786 -1.427366 -0.725996 -1.427176   \n",
       "1456  2.423343  5.279390  4.876993  2.621016 -0.787757 -0.921840 -1.991847   \n",
       "2886  1.605235  1.270205  9.453592  2.621835 -0.815962 -0.689892 -1.044414   \n",
       "\n",
       "            g1        g2        g3        g4  stabf  \n",
       "3754  0.733945  0.168359  0.914492  0.671303      0  \n",
       "7667  0.888177  0.283483  0.195373  0.959492      1  \n",
       "3122  0.392040  0.229182  0.873777  0.964562      1  \n",
       "1456  0.702972  0.850101  0.664613  0.273731      0  \n",
       "2886  0.887779  0.496484  0.277912  0.326237      1  "
      ]
     },
     "execution_count": 42,
     "metadata": {},
     "output_type": "execute_result"
    }
   ],
   "source": [
    "test.head()"
   ]
  },
  {
   "cell_type": "code",
   "execution_count": 43,
   "metadata": {},
   "outputs": [
    {
     "data": {
      "text/html": [
       "<div>\n",
       "<style scoped>\n",
       "    .dataframe tbody tr th:only-of-type {\n",
       "        vertical-align: middle;\n",
       "    }\n",
       "\n",
       "    .dataframe tbody tr th {\n",
       "        vertical-align: top;\n",
       "    }\n",
       "\n",
       "    .dataframe thead th {\n",
       "        text-align: right;\n",
       "    }\n",
       "</style>\n",
       "<table border=\"1\" class=\"dataframe\">\n",
       "  <thead>\n",
       "    <tr style=\"text-align: right;\">\n",
       "      <th></th>\n",
       "      <th>tau1</th>\n",
       "      <th>tau2</th>\n",
       "      <th>tau3</th>\n",
       "      <th>tau4</th>\n",
       "      <th>p2</th>\n",
       "      <th>p3</th>\n",
       "      <th>p4</th>\n",
       "      <th>g1</th>\n",
       "      <th>g2</th>\n",
       "      <th>g3</th>\n",
       "      <th>g4</th>\n",
       "      <th>stabf</th>\n",
       "    </tr>\n",
       "  </thead>\n",
       "  <tbody>\n",
       "    <tr>\n",
       "      <th>8393</th>\n",
       "      <td>5.500377</td>\n",
       "      <td>6.675807</td>\n",
       "      <td>8.868063</td>\n",
       "      <td>9.806539</td>\n",
       "      <td>-0.788522</td>\n",
       "      <td>-1.349178</td>\n",
       "      <td>-1.935424</td>\n",
       "      <td>0.784209</td>\n",
       "      <td>0.579662</td>\n",
       "      <td>0.172421</td>\n",
       "      <td>0.985948</td>\n",
       "      <td>0</td>\n",
       "    </tr>\n",
       "    <tr>\n",
       "      <th>7485</th>\n",
       "      <td>7.954243</td>\n",
       "      <td>6.737250</td>\n",
       "      <td>5.094449</td>\n",
       "      <td>2.664001</td>\n",
       "      <td>-1.834643</td>\n",
       "      <td>-1.009745</td>\n",
       "      <td>-0.863763</td>\n",
       "      <td>0.271794</td>\n",
       "      <td>0.777054</td>\n",
       "      <td>0.358477</td>\n",
       "      <td>0.806230</td>\n",
       "      <td>0</td>\n",
       "    </tr>\n",
       "    <tr>\n",
       "      <th>6395</th>\n",
       "      <td>8.518567</td>\n",
       "      <td>0.973923</td>\n",
       "      <td>4.099282</td>\n",
       "      <td>0.596253</td>\n",
       "      <td>-1.872408</td>\n",
       "      <td>-0.790888</td>\n",
       "      <td>-1.550130</td>\n",
       "      <td>0.397787</td>\n",
       "      <td>0.219231</td>\n",
       "      <td>0.713029</td>\n",
       "      <td>0.232874</td>\n",
       "      <td>1</td>\n",
       "    </tr>\n",
       "    <tr>\n",
       "      <th>5585</th>\n",
       "      <td>9.952270</td>\n",
       "      <td>8.347632</td>\n",
       "      <td>1.787218</td>\n",
       "      <td>8.658657</td>\n",
       "      <td>-0.606895</td>\n",
       "      <td>-0.636397</td>\n",
       "      <td>-1.281679</td>\n",
       "      <td>0.278151</td>\n",
       "      <td>0.095874</td>\n",
       "      <td>0.772223</td>\n",
       "      <td>0.258195</td>\n",
       "      <td>1</td>\n",
       "    </tr>\n",
       "    <tr>\n",
       "      <th>8316</th>\n",
       "      <td>2.062831</td>\n",
       "      <td>6.213706</td>\n",
       "      <td>7.058782</td>\n",
       "      <td>2.289422</td>\n",
       "      <td>-0.757054</td>\n",
       "      <td>-0.525209</td>\n",
       "      <td>-1.030996</td>\n",
       "      <td>0.258542</td>\n",
       "      <td>0.424002</td>\n",
       "      <td>0.973738</td>\n",
       "      <td>0.649170</td>\n",
       "      <td>0</td>\n",
       "    </tr>\n",
       "  </tbody>\n",
       "</table>\n",
       "</div>"
      ],
      "text/plain": [
       "          tau1      tau2      tau3      tau4        p2        p3        p4  \\\n",
       "8393  5.500377  6.675807  8.868063  9.806539 -0.788522 -1.349178 -1.935424   \n",
       "7485  7.954243  6.737250  5.094449  2.664001 -1.834643 -1.009745 -0.863763   \n",
       "6395  8.518567  0.973923  4.099282  0.596253 -1.872408 -0.790888 -1.550130   \n",
       "5585  9.952270  8.347632  1.787218  8.658657 -0.606895 -0.636397 -1.281679   \n",
       "8316  2.062831  6.213706  7.058782  2.289422 -0.757054 -0.525209 -1.030996   \n",
       "\n",
       "            g1        g2        g3        g4  stabf  \n",
       "8393  0.784209  0.579662  0.172421  0.985948      0  \n",
       "7485  0.271794  0.777054  0.358477  0.806230      0  \n",
       "6395  0.397787  0.219231  0.713029  0.232874      1  \n",
       "5585  0.278151  0.095874  0.772223  0.258195      1  \n",
       "8316  0.258542  0.424002  0.973738  0.649170      0  "
      ]
     },
     "execution_count": 43,
     "metadata": {},
     "output_type": "execute_result"
    }
   ],
   "source": [
    "train.head()"
   ]
  },
  {
   "cell_type": "code",
   "execution_count": 44,
   "metadata": {},
   "outputs": [
    {
     "data": {
      "text/html": [
       "<div>\n",
       "<style scoped>\n",
       "    .dataframe tbody tr th:only-of-type {\n",
       "        vertical-align: middle;\n",
       "    }\n",
       "\n",
       "    .dataframe tbody tr th {\n",
       "        vertical-align: top;\n",
       "    }\n",
       "\n",
       "    .dataframe thead th {\n",
       "        text-align: right;\n",
       "    }\n",
       "</style>\n",
       "<table border=\"1\" class=\"dataframe\">\n",
       "  <thead>\n",
       "    <tr style=\"text-align: right;\">\n",
       "      <th></th>\n",
       "      <th>tau1</th>\n",
       "      <th>tau2</th>\n",
       "      <th>tau3</th>\n",
       "      <th>tau4</th>\n",
       "      <th>p2</th>\n",
       "      <th>p3</th>\n",
       "      <th>p4</th>\n",
       "      <th>g1</th>\n",
       "      <th>g2</th>\n",
       "      <th>g3</th>\n",
       "      <th>g4</th>\n",
       "      <th>stabf</th>\n",
       "    </tr>\n",
       "  </thead>\n",
       "  <tbody>\n",
       "    <tr>\n",
       "      <th>9118</th>\n",
       "      <td>3.043484</td>\n",
       "      <td>5.146240</td>\n",
       "      <td>1.890599</td>\n",
       "      <td>8.331976</td>\n",
       "      <td>-1.180432</td>\n",
       "      <td>-0.690838</td>\n",
       "      <td>-0.832173</td>\n",
       "      <td>0.232630</td>\n",
       "      <td>0.409553</td>\n",
       "      <td>0.361492</td>\n",
       "      <td>0.477005</td>\n",
       "      <td>1</td>\n",
       "    </tr>\n",
       "    <tr>\n",
       "      <th>9227</th>\n",
       "      <td>4.179069</td>\n",
       "      <td>4.469472</td>\n",
       "      <td>9.471745</td>\n",
       "      <td>4.740743</td>\n",
       "      <td>-1.611811</td>\n",
       "      <td>-1.123787</td>\n",
       "      <td>-0.641480</td>\n",
       "      <td>0.537114</td>\n",
       "      <td>0.286531</td>\n",
       "      <td>0.647801</td>\n",
       "      <td>0.452676</td>\n",
       "      <td>0</td>\n",
       "    </tr>\n",
       "    <tr>\n",
       "      <th>687</th>\n",
       "      <td>8.254805</td>\n",
       "      <td>7.196505</td>\n",
       "      <td>6.642446</td>\n",
       "      <td>8.366604</td>\n",
       "      <td>-1.037418</td>\n",
       "      <td>-1.487353</td>\n",
       "      <td>-1.403080</td>\n",
       "      <td>0.334032</td>\n",
       "      <td>0.921507</td>\n",
       "      <td>0.901161</td>\n",
       "      <td>0.623503</td>\n",
       "      <td>0</td>\n",
       "    </tr>\n",
       "    <tr>\n",
       "      <th>6298</th>\n",
       "      <td>7.192600</td>\n",
       "      <td>9.793865</td>\n",
       "      <td>6.741471</td>\n",
       "      <td>6.621450</td>\n",
       "      <td>-1.675539</td>\n",
       "      <td>-0.783365</td>\n",
       "      <td>-1.132204</td>\n",
       "      <td>0.135912</td>\n",
       "      <td>0.410529</td>\n",
       "      <td>0.489494</td>\n",
       "      <td>0.624640</td>\n",
       "      <td>0</td>\n",
       "    </tr>\n",
       "    <tr>\n",
       "      <th>5744</th>\n",
       "      <td>6.111503</td>\n",
       "      <td>8.329410</td>\n",
       "      <td>3.088199</td>\n",
       "      <td>7.279466</td>\n",
       "      <td>-1.013397</td>\n",
       "      <td>-1.785272</td>\n",
       "      <td>-1.017576</td>\n",
       "      <td>0.560290</td>\n",
       "      <td>0.833881</td>\n",
       "      <td>0.128731</td>\n",
       "      <td>0.761363</td>\n",
       "      <td>0</td>\n",
       "    </tr>\n",
       "  </tbody>\n",
       "</table>\n",
       "</div>"
      ],
      "text/plain": [
       "          tau1      tau2      tau3      tau4        p2        p3        p4  \\\n",
       "9118  3.043484  5.146240  1.890599  8.331976 -1.180432 -0.690838 -0.832173   \n",
       "9227  4.179069  4.469472  9.471745  4.740743 -1.611811 -1.123787 -0.641480   \n",
       "687   8.254805  7.196505  6.642446  8.366604 -1.037418 -1.487353 -1.403080   \n",
       "6298  7.192600  9.793865  6.741471  6.621450 -1.675539 -0.783365 -1.132204   \n",
       "5744  6.111503  8.329410  3.088199  7.279466 -1.013397 -1.785272 -1.017576   \n",
       "\n",
       "            g1        g2        g3        g4  stabf  \n",
       "9118  0.232630  0.409553  0.361492  0.477005      1  \n",
       "9227  0.537114  0.286531  0.647801  0.452676      0  \n",
       "687   0.334032  0.921507  0.901161  0.623503      0  \n",
       "6298  0.135912  0.410529  0.489494  0.624640      0  \n",
       "5744  0.560290  0.833881  0.128731  0.761363      0  "
      ]
     },
     "execution_count": 44,
     "metadata": {},
     "output_type": "execute_result"
    }
   ],
   "source": [
    "valid.head()"
   ]
  },
  {
   "cell_type": "markdown",
   "metadata": {},
   "source": [
    "Exercise 2"
   ]
  },
  {
   "cell_type": "code",
   "execution_count": 9,
   "metadata": {},
   "outputs": [],
   "source": [
    "train_predictor = full_train.iloc[:,0:11]\n",
    "train_target = full_train.iloc[:,11]\n",
    "gini_tree = DecisionTreeClassifier(criterion='gini', max_depth = 5)\n",
    "gini_model=gini_tree.fit(train_predictor,train_target)"
   ]
  },
  {
   "cell_type": "code",
   "execution_count": 12,
   "metadata": {},
   "outputs": [
    {
     "name": "stdout",
     "output_type": "stream",
     "text": [
      "TGini cross Entropy =  0.4772320301116412\n"
     ]
    }
   ],
   "source": [
    "train_predictor = train.iloc[:,0:11]\n",
    "train_target = train.iloc[:,11]\n",
    "gini_tree = DecisionTreeClassifier(criterion='gini', max_depth = 5)\n",
    "gini_model=gini_tree.fit(train_predictor,train_target)\n",
    "\n",
    "test_predictor = test.iloc[:,0:11]\n",
    "test_target = test.iloc[:,11]\n",
    "prob_dt=gini_model.predict_proba(test_predictor)\n",
    "entropy3 = log_loss(test_target,prob_dt)\n",
    "print(\"TGini cross Entropy = \",entropy3)"
   ]
  },
  {
   "cell_type": "markdown",
   "metadata": {},
   "source": [
    "Exercise 3."
   ]
  },
  {
   "cell_type": "code",
   "execution_count": 47,
   "metadata": {},
   "outputs": [
    {
     "name": "stderr",
     "output_type": "stream",
     "text": [
      "C:\\Users\\Reza\\anaconda3\\lib\\site-packages\\sklearn\\neural_network\\_multilayer_perceptron.py:582: ConvergenceWarning: Stochastic Optimizer: Maximum iterations (200) reached and the optimization hasn't converged yet.\n",
      "  warnings.warn(\n"
     ]
    },
    {
     "name": "stdout",
     "output_type": "stream",
     "text": [
      "0.1985260043167353\n",
      "0.17139769345064057\n"
     ]
    },
    {
     "name": "stderr",
     "output_type": "stream",
     "text": [
      "C:\\Users\\Reza\\anaconda3\\lib\\site-packages\\sklearn\\neural_network\\_multilayer_perceptron.py:582: ConvergenceWarning: Stochastic Optimizer: Maximum iterations (200) reached and the optimization hasn't converged yet.\n",
      "  warnings.warn(\n"
     ]
    }
   ],
   "source": [
    "train_x = train.iloc[:,0:11]\n",
    "train_y = train.iloc[:,11]\n",
    "valid_x = valid.iloc[:,0:11]\n",
    "valid_y = valid.iloc[:,11]\n",
    "\n",
    "#Initializing the MLPClassifier\n",
    "classifier1 = MLPClassifier(hidden_layer_sizes=(20))\n",
    "classifier2 = MLPClassifier(hidden_layer_sizes=(10,10))\n",
    "\n",
    "classifier1.fit(train_x, train_y)\n",
    "classifier2.fit(train_x, train_y)\n",
    "#classifier1.fit(valid_x, valid_y)\n",
    "\n",
    "predict1_y = classifier1.predict_proba(valid_x)\n",
    "predict2_y = classifier2.predict_proba(valid_x)\n",
    "\n",
    "result_1 = log_loss(valid_y.values, predict1_y)\n",
    "result_2 = log_loss(valid_y.values, predict2_y)\n",
    "\n",
    "print(result_1)\n",
    "print(result_2)\n",
    "\n",
    "#result 2 is better we choose the second classifier\n",
    "\n"
   ]
  },
  {
   "cell_type": "code",
   "execution_count": 50,
   "metadata": {
    "scrolled": true
   },
   "outputs": [
    {
     "name": "stdout",
     "output_type": "stream",
     "text": [
      "0.15158691461942403\n"
     ]
    },
    {
     "name": "stderr",
     "output_type": "stream",
     "text": [
      "C:\\Users\\Reza\\anaconda3\\lib\\site-packages\\sklearn\\neural_network\\_multilayer_perceptron.py:582: ConvergenceWarning: Stochastic Optimizer: Maximum iterations (200) reached and the optimization hasn't converged yet.\n",
      "  warnings.warn(\n"
     ]
    }
   ],
   "source": [
    "selected_classifier = MLPClassifier(hidden_layer_sizes=(10, 10))\n",
    "selected_classifier.fit(train_predictor, train_target)\n",
    "prob_mlp = selected_classifier.predict_proba(test_predictor)\n",
    "result_3 = log_loss(test_target, prob_mlp)\n",
    "print(result_3)"
   ]
  },
  {
   "cell_type": "markdown",
   "metadata": {},
   "source": [
    "Exercise 4."
   ]
  },
  {
   "cell_type": "code",
   "execution_count": 18,
   "metadata": {},
   "outputs": [
    {
     "name": "stdout",
     "output_type": "stream",
     "text": [
      "5\n",
      "0.6539327886826928\n",
      "10\n",
      "0.3093198241386913\n",
      "50\n",
      "0.27238517166111154\n",
      "100\n",
      "0.27191316795470793\n",
      "200\n",
      "0.2706685616874499\n"
     ]
    }
   ],
   "source": [
    "num_tree = [5, 10, 50, 100, 200]\n",
    "\n",
    "for i in num_tree:\n",
    "    classifier1 = RandomForestClassifier(i)\n",
    "    classifier1.fit(train_x, train_y)\n",
    "    predict1_y = classifier1.predict_proba(valid_x)\n",
    "    result_1 = log_loss(valid_y.values, predict1_y)\n",
    "    print(i)\n",
    "    print(result_1)"
   ]
  },
  {
   "cell_type": "code",
   "execution_count": 19,
   "metadata": {},
   "outputs": [
    {
     "name": "stdout",
     "output_type": "stream",
     "text": [
      "0.26413026222111285\n"
     ]
    }
   ],
   "source": [
    "# tree with 200 is selected (best)\n",
    "selected_classifier = RandomForestClassifier(200)\n",
    "selected_classifier.fit(train_predictor, train_target)\n",
    "prob_rf = selected_classifier.predict_proba(test_predictor)\n",
    "result_3 = log_loss(test_target, prob_rf)\n",
    "print(result_3)"
   ]
  },
  {
   "cell_type": "markdown",
   "metadata": {},
   "source": [
    "Exercise 5."
   ]
  },
  {
   "cell_type": "code",
   "execution_count": 20,
   "metadata": {},
   "outputs": [
    {
     "name": "stdout",
     "output_type": "stream",
     "text": [
      "20\n",
      "0.6399720002030671\n",
      "40\n",
      "0.658762841155889\n",
      "60\n",
      "0.6679598583724627\n"
     ]
    }
   ],
   "source": [
    "arr = [20, 40, 60]\n",
    "\n",
    "for i in arr:\n",
    "    classifier1 = AdaBoostClassifier(n_estimators= i)\n",
    "    classifier1.fit(train_x, train_y)\n",
    "    predict1_y = classifier1.predict_proba(valid_x)\n",
    "    result_1 = log_loss(valid_y.values, predict1_y)\n",
    "    print(i)\n",
    "    print(result_1)\n"
   ]
  },
  {
   "cell_type": "code",
   "execution_count": 22,
   "metadata": {},
   "outputs": [
    {
     "name": "stdout",
     "output_type": "stream",
     "text": [
      "0.6421384577979186\n"
     ]
    }
   ],
   "source": [
    "# arr with 20 is selected (best)\n",
    "selected_classifier = AdaBoostClassifier(n_estimators=20)\n",
    "selected_classifier.fit(train_predictor, train_target)\n",
    "prob_adb = selected_classifier.predict_proba(test_predictor)\n",
    "result_3 = log_loss(test_target, prob_adb)\n",
    "print(result_3)"
   ]
  },
  {
   "cell_type": "markdown",
   "metadata": {},
   "source": [
    "Exercise 6."
   ]
  },
  {
   "cell_type": "code",
   "execution_count": 36,
   "metadata": {},
   "outputs": [],
   "source": [
    "def ROC(T, pred, act):\n",
    "  thres = {}  \n",
    "  TPR = []\n",
    "  FPR = []\n",
    "  DIFF = []\n",
    "  pred_prob = pred[:,1]  \n",
    "  for i in T:\n",
    "    pred_t = np.where(pred_prob < i, 0, 1)\n",
    "    TP,TN,FP,FN = Calc(pred_t, act)\n",
    "    POD = TP/(TP + FN)\n",
    "    TPR.append(POD)\n",
    "    POFD = FP/(FP + TN)\n",
    "    FPR.append(POFD)\n",
    "    Sen = TP/(TP + FN)\n",
    "    Spe = TN/(TN + FP)\n",
    "    DIFF.append(Sen + Spe -1)\n",
    "  return TPR, FPR, DIFF\n",
    "\n",
    "def Calc(Pred_t, act):\n",
    "  TN = TP = FP = FN = 0\n",
    "  for i, j in np.nditer([Pred_t, act]):\n",
    "    if i == 1:\n",
    "      if j == 1:\n",
    "        TP += 1\n",
    "      else:\n",
    "        FP += 1\n",
    "    else:\n",
    "      if j == 1:\n",
    "        FN += 1\n",
    "      else:\n",
    "        TN += 1\n",
    "  return TP,TN,FP,FN\n",
    "\n",
    "\n",
    "def youden(DIFF, Thres):\n",
    "  Youden = max(DIFF)\n",
    "  Thresc = Thres[DIFF.index(Youden)]\n",
    "  print(\"Highest youden: {} with threshold: {}\".format(Youden,Thresc))\n",
    "  return Youden, Thresc\n",
    "\n",
    "\n",
    "\n",
    "def ROC_plt(TPR, FPR, DIFF, model):\n",
    "  ref = [i*.1 for i in range(0,11)]\n",
    "  plt.plot(ref, ref, color = 'blue', linestyle='dashed')\n",
    "  plt.plot(FPR, TPR, color = 'red')\n",
    "  plt.ylabel('TPR')\n",
    "  plt.xlabel('FPR')\n",
    "  plt.title(\"ROC Curve: \" + model)\n",
    "  plt.show()\n",
    "\n",
    "def Eval(act, pred, m):\n",
    "  T = []\n",
    "  for i in range (0, 1001):\n",
    "    T.append(i/1000)\n",
    "  TPR, FPR, DIFF = ROC(T, pred, act)\n",
    "  ROC_plt(TPR, FPR, DIFF, m)\n",
    "  youden(DIFF, T)\n",
    "  area(TPR,T)\n",
    "\n",
    "\n",
    "def area(TPR,Thrs): \n",
    "  bin_num = (len(Thrs) - 1)\n",
    "  width = (1 / bin_num)\n",
    "  Area = 0\n",
    "  for i in TPR:\n",
    "    Area += width * i\n",
    "  print(\"The Area under curve:\", Area)\n",
    "  return Area"
   ]
  },
  {
   "cell_type": "code",
   "execution_count": 37,
   "metadata": {
    "scrolled": true
   },
   "outputs": [
    {
     "data": {
      "image/png": "[encoded data removed]",
      "text/plain": [
       "<Figure size 432x288 with 1 Axes>"
      ]
     },
     "metadata": {
      "needs_background": "light"
     },
     "output_type": "display_data"
    },
    {
     "name": "stdout",
     "output_type": "stream",
     "text": [
      "Highest youden: 0.8717574001592707 with threshold: 0.463\n",
      "The Area under curve: 0.881179319371728\n"
     ]
    }
   ],
   "source": [
    "Eval(test_target, prob_mlp, \"MLP\")"
   ]
  },
  {
   "cell_type": "code",
   "execution_count": 38,
   "metadata": {
    "scrolled": true
   },
   "outputs": [
    {
     "data": {
      "image/png": "[encoded data removed]",
      "text/plain": [
       "<Figure size 432x288 with 1 Axes>"
      ]
     },
     "metadata": {
      "needs_background": "light"
     },
     "output_type": "display_data"
    },
    {
     "name": "stdout",
     "output_type": "stream",
     "text": [
      "Highest youden: 0.5208365102763517 with threshold: 0.401\n",
      "The Area under curve: 0.6186007853403225\n"
     ]
    }
   ],
   "source": [
    "Eval(test_target, prob_dt, \"DecisionTree\")"
   ]
  },
  {
   "cell_type": "code",
   "execution_count": 39,
   "metadata": {
    "scrolled": true
   },
   "outputs": [
    {
     "data": {
      "image/png": "[encoded data removed]",
      "text/plain": [
       "<Figure size 432x288 with 1 Axes>"
      ]
     },
     "metadata": {
      "needs_background": "light"
     },
     "output_type": "display_data"
    },
    {
     "name": "stdout",
     "output_type": "stream",
     "text": [
      "Highest youden: 0.8551017468950677 with threshold: 0.396\n",
      "The Area under curve: 0.716896596858637\n"
     ]
    }
   ],
   "source": [
    "Eval(test_target, prob_rf, \"RandomForest\")"
   ]
  },
  {
   "cell_type": "code",
   "execution_count": 40,
   "metadata": {
    "scrolled": false
   },
   "outputs": [
    {
     "data": {
      "image/png": "[encoded data removed]",
      "text/plain": [
       "<Figure size 432x288 with 1 Axes>"
      ]
     },
     "metadata": {
      "needs_background": "light"
     },
     "output_type": "display_data"
    },
    {
     "name": "stdout",
     "output_type": "stream",
     "text": [
      "Highest youden: 0.6739312763686272 with threshold: 0.495\n",
      "The Area under curve: 0.5178586387434557\n"
     ]
    }
   ],
   "source": [
    "Eval(test_target, prob_adb, \"AdaBoost\")"
   ]
  },
  {
   "cell_type": "code",
   "execution_count": null,
   "metadata": {},
   "outputs": [],
   "source": []
  }
 ],
 "metadata": {
  "kernelspec": {
   "display_name": "Python 3",
   "language": "python",
   "name": "python3"
  },
  "language_info": {
   "codemirror_mode": {
    "name": "ipython",
    "version": 3
   },
   "file_extension": ".py",
   "mimetype": "text/x-python",
   "name": "python",
   "nbconvert_exporter": "python",
   "pygments_lexer": "ipython3",
   "version": "3.8.3"
  }
 },
 "nbformat": 4,
 "nbformat_minor": 4
}

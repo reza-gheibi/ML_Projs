{
  "nbformat": 4,
  "nbformat_minor": 0,
  "metadata": {
    "colab": {
      "name": "Copy of MLHW4.ipynb",
      "provenance": []
    },
    "kernelspec": {
      "name": "python3",
      "display_name": "Python 3"
    }
  },
  "cells": [
    {
      "cell_type": "code",
      "metadata": {
        "id": "SG_jDANy-sz6",
        "outputId": "d33f5645-2940-4600-ac1d-015cf736961e",
        "colab": {
          "base_uri": "https://localhost:8080/",
          "height": 51
        }
      },
      "source": [
        "import numpy as np\n",
        "examples = [[1,1.2], [1,2.8], [1,2], [1,0.9], [1,5.1]]\n",
        "targets = [3.2, 8.5, 4.7, 2.9, 11]\n",
        "examples = np.array(examples)\n",
        "\n",
        "weights = np.array([1,1])\n",
        "print(weights.shape)\n",
        "delta_weights =np.zeros(weights.shape)\n",
        "print(delta_weights.shape)"
      ],
      "execution_count": null,
      "outputs": [
        {
          "output_type": "stream",
          "text": [
            "(2,)\n",
            "(2,)\n"
          ],
          "name": "stdout"
        }
      ]
    },
    {
      "cell_type": "code",
      "metadata": {
        "id": "FIk_0v1aLF-l",
        "outputId": "ec172afe-da5e-4f18-935b-354236efdcf0",
        "colab": {
          "base_uri": "https://localhost:8080/",
          "height": 119
        }
      },
      "source": [
        "import numpy as np\n",
        "examples = [[1,1.2], [1,2.8], [1,2], [1,0.9], [1,5.1]]\n",
        "targets = [3.2, 8.5, 4.7, 2.9, 11]\n",
        "examples = np.array(examples)\n",
        "\n",
        "weights = np.array([1,1])\n",
        "print\n",
        "iterations = 3\n",
        "eta = 0.01\n",
        "for i in range(iterations):\n",
        "    delta_weights =np.zeros(weights.shape)\n",
        "    for row,example in enumerate(examples):\n",
        "      example_reshape = examples[row]\n",
        "      output = np.dot(weights, example_reshape)\n",
        "      target = targets[row]\n",
        "      error = target-output\n",
        "      delta_weights = delta_weights+ eta*error*example_reshape\n",
        "    weights = weights+delta_weights\n",
        "    print(\"After iteration \"+str(i+1))\n",
        "    print(weights)"
      ],
      "execution_count": null,
      "outputs": [
        {
          "output_type": "stream",
          "text": [
            "After iteration 1\n",
            "[1.133  1.4365]\n",
            "After iteration 2\n",
            "[1.20697   1.6820035]\n",
            "After iteration 3\n",
            "[1.24778108 1.8201837 ]\n"
          ],
          "name": "stdout"
        }
      ]
    },
    {
      "cell_type": "markdown",
      "metadata": {
        "id": "6JSivOVhbzew"
      },
      "source": [
        "## Excercise (3) \n"
      ]
    },
    {
      "cell_type": "markdown",
      "metadata": {
        "id": "Xp87IyFpcQ4j"
      },
      "source": [
        "### Import required libraries and reading the data "
      ]
    },
    {
      "cell_type": "code",
      "metadata": {
        "id": "N3x9u-gvaQCO"
      },
      "source": [
        "# Import required libraries\n",
        "import pandas as pd\n",
        "import numpy as np\n",
        "from sklearn.tree import DecisionTreeClassifier #For our Decision Tree\n",
        "from sklearn.metrics import log_loss"
      ],
      "execution_count": null,
      "outputs": []
    },
    {
      "cell_type": "code",
      "metadata": {
        "id": "aLrP-wncaxNW"
      },
      "source": [
        "# Reading the dataset from the URL\n",
        "URL = \"https://archive.ics.uci.edu/ml/machine-learning-databases/00471/Data_for_UCI_named.csv\"\n",
        "data_set=pd.read_csv(URL)"
      ],
      "execution_count": null,
      "outputs": []
    },
    {
      "cell_type": "markdown",
      "metadata": {
        "id": "ghUXA0XQdDRX"
      },
      "source": [
        "### Section (a)"
      ]
    },
    {
      "cell_type": "code",
      "metadata": {
        "id": "GSzj6beZbgUy"
      },
      "source": [
        "# Removing Column 5 and 13\n",
        "columns_drop = ['p1','stab']\n",
        "data_set2 = data_set.drop(columns=columns_drop)\n"
      ],
      "execution_count": null,
      "outputs": []
    },
    {
      "cell_type": "code",
      "metadata": {
        "id": "JrmzQAWmjUJ6"
      },
      "source": [
        "# Reza\n",
        "column_index = [4,12]\n",
        "final_dataframe = data_set.drop(data_set.columns[column_index],axis=1)"
      ],
      "execution_count": null,
      "outputs": []
    },
    {
      "cell_type": "markdown",
      "metadata": {
        "id": "ZR9lNie4f_i7"
      },
      "source": [
        "### Section (b)"
      ]
    },
    {
      "cell_type": "code",
      "metadata": {
        "id": "3ysdR9EjdqVX"
      },
      "source": [
        "# Replacing negative values with 0 and positive with 1\n",
        "data_set2.stabf.replace('stable',1,inplace=True)\n",
        "data_set2.stabf.replace('unstable',0,inplace=True)"
      ],
      "execution_count": null,
      "outputs": []
    },
    {
      "cell_type": "code",
      "metadata": {
        "id": "wcIu9dUfjMue"
      },
      "source": [
        "#Reza\n",
        "final_dataframe['stabf']=final_dataframe['stabf'].replace('stable',1)\n",
        "final_dataframe['stabf']=final_dataframe['stabf'].replace('unstable',0)"
      ],
      "execution_count": null,
      "outputs": []
    },
    {
      "cell_type": "markdown",
      "metadata": {
        "id": "Tq1KS0FSMlR3"
      },
      "source": [
        "### Section (c)"
      ]
    },
    {
      "cell_type": "code",
      "metadata": {
        "id": "zAE3TI65i8zI"
      },
      "source": [
        "#Jalal\n",
        "\n",
        "data_set2.shape\n",
        "n_rows = data_set2.shape[0]\n",
        "test_index= int(0.2*n_rows)\n",
        "test_data = data_set2[0:test_index]"
      ],
      "execution_count": null,
      "outputs": []
    },
    {
      "cell_type": "code",
      "metadata": {
        "id": "PtpMY-LgM2VS"
      },
      "source": [
        "# Reza\n",
        "test_percent = 20\n",
        "total_rows = final_dataframe.shape[0] \n",
        "test_subset=(test_percent*total_rows//100)\n",
        "test = final_dataframe.iloc[0:test_subset]"
      ],
      "execution_count": null,
      "outputs": []
    },
    {
      "cell_type": "markdown",
      "metadata": {
        "id": "cQ8b8vjSRuUT"
      },
      "source": [
        "### Section (d)"
      ]
    },
    {
      "cell_type": "code",
      "metadata": {
        "id": "V55QB8NIRDcC"
      },
      "source": [
        "#Jalal\n",
        "remain_dataset = data_set2[test_index:]\n",
        "remaining_rows = remain_dataset.shape[0]\n",
        "train_index = int(0.75*remaining_rows)\n",
        "training_data = remain_dataset[0:train_index]\n",
        "valid_data = remain_dataset[train_index:]"
      ],
      "execution_count": null,
      "outputs": []
    },
    {
      "cell_type": "code",
      "metadata": {
        "id": "AcjJG1laR7O9"
      },
      "source": [
        "# Reza\n",
        "train1 = final_dataframe.iloc[test_subset:]\n",
        "train_percent = 75\n",
        "total_rows2 = train1.shape[0]\n",
        "train_subset=(train_percent*total_rows2//100)\n",
        "train = train1.iloc[0:train_subset]\n",
        "valid = train1.iloc[train_subset:]"
      ],
      "execution_count": null,
      "outputs": []
    },
    {
      "cell_type": "markdown",
      "metadata": {
        "id": "di3A3Do-Vyt8"
      },
      "source": [
        "## Excercise (4) \n"
      ]
    },
    {
      "cell_type": "markdown",
      "metadata": {
        "id": "6DVWNjjRcvLE"
      },
      "source": [
        "### Section(a)"
      ]
    },
    {
      "cell_type": "code",
      "metadata": {
        "id": "YcibTEy2p23D"
      },
      "source": [
        "# Jalal\n",
        "training_data.head()\n",
        "train_x=training_data[training_data.columns[0:11]]\n",
        "train_y=training_data[training_data.columns[11]]\n",
        "\n",
        "tree1 = DecisionTreeClassifier(criterion='gini', max_depth = 5)\n",
        "model1=tree1.fit(train_x,train_y)"
      ],
      "execution_count": null,
      "outputs": []
    },
    {
      "cell_type": "code",
      "metadata": {
        "id": "6ZkpR2Mno4S0"
      },
      "source": [
        "# Reza\n",
        "train_predictor = train.iloc[:,0:11]\n",
        "train_target = train.iloc[:,11]\n",
        "gini_tree = DecisionTreeClassifier(criterion='gini', max_depth = 5)\n",
        "gini_model=gini_tree.fit(train_predictor,train_target)"
      ],
      "execution_count": null,
      "outputs": []
    },
    {
      "cell_type": "markdown",
      "metadata": {
        "id": "1-H5Efwiddxb"
      },
      "source": [
        "### Section (b)"
      ]
    },
    {
      "cell_type": "code",
      "metadata": {
        "id": "-t7NUKKT1yEx"
      },
      "source": [
        "# Cross Entropy Formula\n",
        "def cross_entropy(targets,probs):\n",
        "  \n",
        "  np.seterr(all='raise')\n",
        "  array = []\n",
        "  clipped_prob = 10**-15\n",
        "  for i,prob in enumerate(probs):\n",
        "    t=targets[i]\n",
        "    my_prob = prob[1]\n",
        "    if (t==0 and my_prob==1):\n",
        "      #print(t)\n",
        "      #print(prob)\n",
        "      my_prob = my_prob - clipped_prob\n",
        "  \n",
        "    elif (t==1 and my_prob==0):\n",
        "      my_prob = clipped_prob\n",
        "      \n",
        "    if (my_prob==1 or my_prob==0):\n",
        "      r=0\n",
        "    else:\n",
        "      r=t*np.log(my_prob) + (1-t)*np.log(1-my_prob)\n",
        "    array.append(r)  \n",
        "    \n",
        "  result =-1 * np.mean(array)\n",
        "  return result"
      ],
      "execution_count": null,
      "outputs": []
    },
    {
      "cell_type": "code",
      "metadata": {
        "id": "QZdLhYJLdiQ2",
        "outputId": "1dfbbb72-2d5d-40af-f2c5-077aabc14636",
        "colab": {
          "base_uri": "https://localhost:8080/",
          "height": 34
        }
      },
      "source": [
        "# Jalal\n",
        "valid_x=valid_data[valid_data.columns[0:11]]\n",
        "valid_y=valid_data[valid_data.columns[11]]\n",
        "pred_probs=model1.predict_proba(valid_x)\n",
        "res = cross_entropy(valid_y.values,pred_probs)\n",
        "print(res)"
      ],
      "execution_count": null,
      "outputs": [
        {
          "output_type": "stream",
          "text": [
            "0.502776474839646\n"
          ],
          "name": "stdout"
        }
      ]
    },
    {
      "cell_type": "code",
      "metadata": {
        "id": "AbGu7-fr2Lzc",
        "outputId": "9dfeb19a-43d7-479b-9afc-434be6ca9d0e",
        "colab": {
          "base_uri": "https://localhost:8080/",
          "height": 34
        }
      },
      "source": [
        "# Reza\n",
        "valid_predictor = valid.iloc[:,0:11]\n",
        "valid_target = valid.iloc[:,11]\n",
        "predictions=gini_model.predict_proba(valid_predictor)\n",
        "entropy1 = log_loss(valid_target,predictions)\n",
        "print(entropy1)"
      ],
      "execution_count": null,
      "outputs": [
        {
          "output_type": "stream",
          "text": [
            "0.502776075040931\n"
          ],
          "name": "stdout"
        }
      ]
    },
    {
      "cell_type": "markdown",
      "metadata": {
        "id": "LCsM5taSdi7A"
      },
      "source": [
        "### Section (c)"
      ]
    },
    {
      "cell_type": "code",
      "metadata": {
        "id": "fqB6R8Lpc1al"
      },
      "source": [
        "# Jalal\n",
        "tree2 = DecisionTreeClassifier(criterion='entropy', max_depth=5)\n",
        "model2=tree2.fit(train_x,train_y)"
      ],
      "execution_count": null,
      "outputs": []
    },
    {
      "cell_type": "code",
      "metadata": {
        "id": "IimmoxpR3s5v"
      },
      "source": [
        "# Reza\n",
        "info_gain_tree = DecisionTreeClassifier(criterion='entropy', max_depth = 5)\n",
        "info_gain_model=info_gain_tree.fit(train_predictor,train_target)\n"
      ],
      "execution_count": null,
      "outputs": []
    },
    {
      "cell_type": "markdown",
      "metadata": {
        "id": "Q9auCv5340d5"
      },
      "source": [
        "### Section (d)"
      ]
    },
    {
      "cell_type": "code",
      "metadata": {
        "id": "YPMBPVRj4kJK",
        "outputId": "811dacdd-8d5a-460d-c967-846b1b70e874",
        "colab": {
          "base_uri": "https://localhost:8080/",
          "height": 34
        }
      },
      "source": [
        "pred_probs2=model2.predict_proba(valid_x)\n",
        "res2 = cross_entropy(valid_y.values,pred_probs2)\n",
        "print(res2)"
      ],
      "execution_count": null,
      "outputs": [
        {
          "output_type": "stream",
          "text": [
            "0.5625165609688909\n"
          ],
          "name": "stdout"
        }
      ]
    },
    {
      "cell_type": "code",
      "metadata": {
        "id": "mhNhzCPw5Ew9",
        "outputId": "dcdb16ec-cd8c-4b30-bb7c-f542505c5655",
        "colab": {
          "base_uri": "https://localhost:8080/",
          "height": 34
        }
      },
      "source": [
        "predictions2=info_gain_model.predict_proba(valid_predictor)\n",
        "entropy2 = log_loss(valid_target,predictions2)\n",
        "print(entropy2)"
      ],
      "execution_count": null,
      "outputs": [
        {
          "output_type": "stream",
          "text": [
            "0.5625145619753155\n"
          ],
          "name": "stdout"
        }
      ]
    },
    {
      "cell_type": "code",
      "metadata": {
        "id": "jTAWF6cT6NC1"
      },
      "source": [
        ""
      ],
      "execution_count": null,
      "outputs": []
    }
  ]
}